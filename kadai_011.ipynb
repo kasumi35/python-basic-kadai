count = 1
lists = ["水","金","地","火","木","土","天","海","冥"]


for n in range(2):
  #print(n)
  for list in lists:
    print(list)
