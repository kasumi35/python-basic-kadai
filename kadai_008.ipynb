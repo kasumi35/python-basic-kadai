#ランダムな整数を利用するために、randomモジュールをインポート
import random

# 変数numに0～4までのランダムな整数を代入する
num = random.randint(1, 30)
seta = 3
setb = 5

# num = 15
# 変数numの値を出力
#print(num)

if num % setb*seta== 0:
    print("FizzBuzz")

elif num % seta == 0:
    print("Fizz")
elif num % setb == 0:
    print("Buzz")

else:
    print(num)
